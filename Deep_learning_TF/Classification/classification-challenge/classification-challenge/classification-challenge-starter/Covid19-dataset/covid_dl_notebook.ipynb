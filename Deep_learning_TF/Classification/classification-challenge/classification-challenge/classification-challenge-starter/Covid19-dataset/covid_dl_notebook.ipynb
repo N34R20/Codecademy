{
 "cells": [
  {
   "attachments": {},
   "cell_type": "markdown",
   "metadata": {},
   "source": [
    "# Prediction of Covid using a Deep Learning model with images\n"
   ]
  },
  {
   "cell_type": "code",
   "execution_count": 1,
   "metadata": {},
   "outputs": [
    {
     "name": "stderr",
     "output_type": "stream",
     "text": [
      "2023-05-08 00:57:07.593330: I tensorflow/core/platform/cpu_feature_guard.cc:193] This TensorFlow binary is optimized with oneAPI Deep Neural Network Library (oneDNN) to use the following CPU instructions in performance-critical operations:  SSE4.1 SSE4.2 AVX AVX2 FMA\n",
      "To enable them in other operations, rebuild TensorFlow with the appropriate compiler flags.\n"
     ]
    }
   ],
   "source": [
    "import tensorflow as tf\n",
    "from tensorflow import keras\n",
    "from tensorflow.keras.models import Sequential\n",
    "from tensorflow.keras.preprocessing.image import ImageDataGenerator\n",
    "\n",
    "from sklearn.metrics import classification_report\n",
    "from sklearn.metrics import confusion_matrix\n",
    "\n",
    "from tensorflow.keras.callbacks import EarlyStopping\n",
    "from tensorflow.keras import layers\n",
    "\n",
    "import matplotlib.pyplot as plt\n",
    "import numpy\n"
   ]
  },
  {
   "cell_type": "code",
   "execution_count": 20,
   "metadata": {},
   "outputs": [],
   "source": [
    "\n",
    "DIRECTORY = \"/home/fran/Downloads/codecademy_proyects/Deep_learning_TF/Classification/classification-challenge/classification-challenge/classification-challenge-starter/Covid19-dataset\"\n",
    "CLASS_MODE = \"categorical\"\n",
    "COLOR_MODE = \"grayscale\"\n",
    "TARGET_SIZE = (256,256)\n",
    "BATCH_SIZE = 32"
   ]
  },
  {
   "cell_type": "code",
   "execution_count": 21,
   "metadata": {},
   "outputs": [],
   "source": [
    "training_data_generator = ImageDataGenerator(rescale=1.0/255,\n",
    "\n",
    "#Randomly increase or decrease the size of the image by up to 10%\n",
    "zoom_range=0.1, \n",
    "\n",
    "#Randomly rotate the image between -25,25 degrees\n",
    "rotation_range=25, \n",
    "width_shift_range=0.05, \n",
    "\n",
    "#Shift the image along its height by up to +/- 5%\n",
    "height_shift_range=0.05,\n",
    "\n",
    ")"
   ]
  },
  {
   "cell_type": "code",
   "execution_count": 24,
   "metadata": {},
   "outputs": [
    {
     "name": "stdout",
     "output_type": "stream",
     "text": [
      "Found 251 images belonging to 3 classes.\n",
      "Found 251 images belonging to 3 classes.\n",
      "(32, 256, 256, 1) (32, 3)\n",
      "{'featurewise_center': False, 'samplewise_center': False, 'featurewise_std_normalization': False, 'samplewise_std_normalization': False, 'zca_whitening': False, 'zca_epsilon': 1e-06, 'rotation_range': 25, 'width_shift_range': 0.05, 'height_shift_range': 0.05, 'shear_range': 0.0, 'zoom_range': [0.9, 1.1], 'channel_shift_range': 0.0, 'fill_mode': 'nearest', 'cval': 0.0, 'horizontal_flip': False, 'vertical_flip': False, 'rescale': 0.00392156862745098, 'preprocessing_function': None, 'dtype': 'float32', 'interpolation_order': 1, 'data_format': 'channels_last', 'channel_axis': 3, 'row_axis': 1, 'col_axis': 2, '_validation_split': 0.0, 'mean': None, 'std': None, 'zca_whitening_matrix': None, 'brightness_range': None}\n"
     ]
    }
   ],
   "source": [
    "data_generator = ImageDataGenerator()\n",
    "\n",
    "#Creates a DirectoryIterator object using the above parameters:\n",
    "\n",
    "training_iterator = training_data_generator.flow_from_directory(\n",
    "                                                       DIRECTORY+\"/train\",\n",
    "                                                       class_mode=CLASS_MODE,\n",
    "                                                       color_mode=COLOR_MODE,\n",
    "                                                       target_size=TARGET_SIZE,\n",
    "                                                       batch_size=BATCH_SIZE)\n",
    "\n",
    "validation_data_generator = ImageDataGenerator()\n",
    "\n",
    "validation_iterator = validation_data_generator.flow_from_directory(\n",
    "                                                       DIRECTORY+\"/train\",\n",
    "                                                       class_mode=CLASS_MODE,\n",
    "                                                       color_mode=COLOR_MODE,\n",
    "                                                       target_size=TARGET_SIZE,\n",
    "                                                       batch_size=BATCH_SIZE)\n",
    "\n",
    "\n",
    "sample_batch_input,sample_batch_labels  = training_iterator.next()\n",
    " \n",
    "print(sample_batch_input.shape,sample_batch_labels.shape)\n",
    "\n",
    "#Print its attributes:\n",
    "print(training_data_generator.__dict__)"
   ]
  },
  {
   "cell_type": "code",
   "execution_count": 27,
   "metadata": {},
   "outputs": [
    {
     "name": "stdout",
     "output_type": "stream",
     "text": [
      "Model: \"sequential_2\"\n",
      "_________________________________________________________________\n",
      " Layer (type)                Output Shape              Param #   \n",
      "=================================================================\n",
      " conv2d_2 (Conv2D)           (None, 84, 84, 5)         130       \n",
      "                                                                 \n",
      " max_pooling2d_2 (MaxPooling  (None, 42, 42, 5)        0         \n",
      " 2D)                                                             \n",
      "                                                                 \n",
      " dropout_3 (Dropout)         (None, 42, 42, 5)         0         \n",
      "                                                                 \n",
      " conv2d_3 (Conv2D)           (None, 40, 40, 3)         138       \n",
      "                                                                 \n",
      " max_pooling2d_3 (MaxPooling  (None, 20, 20, 3)        0         \n",
      " 2D)                                                             \n",
      "                                                                 \n",
      " dropout_4 (Dropout)         (None, 20, 20, 3)         0         \n",
      "                                                                 \n",
      " flatten_2 (Flatten)         (None, 1200)              0         \n",
      "                                                                 \n",
      " dense_5 (Dense)             (None, 3)                 3603      \n",
      "                                                                 \n",
      "=================================================================\n",
      "Total params: 3,871\n",
      "Trainable params: 3,871\n",
      "Non-trainable params: 0\n",
      "_________________________________________________________________\n",
      "None\n"
     ]
    }
   ],
   "source": [
    "model = keras.Sequential(\n",
    "        #Add an input layer that will expect grayscale input images of size 256x256:\n",
    "    [   keras.Input(shape=(255,255,1)),\n",
    "     \n",
    "        #Use a Flatten() layer to flatten the image into a single vector:\n",
    "        #layers.Flatten(),\n",
    "        \n",
    "        # convolutional hidden layers with relu functions\n",
    "        # maxpooling layers and dropout layers as well\n",
    "        layers.Conv2D(5, 5, strides=3, activation=\"relu\"),\n",
    "        layers.MaxPooling2D(\n",
    "                        pool_size=(2, 2), strides=(2,2)),\n",
    "        layers.Dropout(0.1),\n",
    "\n",
    "        layers.Conv2D(3, 3, strides=1, activation=\"relu\"),\n",
    "        layers.MaxPooling2D(\n",
    "                        pool_size=(2, 2), strides=(2,2)),\n",
    "        layers.Dropout(0.2),\n",
    "\n",
    "        layers.Flatten(),\n",
    "        # output layer with softmax activation function\n",
    "        layers.Dense(3,activation=\"softmax\")\n",
    "    ]\n",
    ")\n",
    "model.compile(\n",
    "    optimizer=tf.keras.optimizers.Adam(learning_rate=.001), \n",
    "    loss=tf.keras.losses.CategoricalCrossentropy(), \n",
    "    metrics=[tf.keras.metrics.CategoricalAccuracy(),tf.keras.metrics.AUC()])\n",
    "\n",
    "print(model.summary())"
   ]
  },
  {
   "cell_type": "code",
   "execution_count": 28,
   "metadata": {},
   "outputs": [],
   "source": [
    "# early stopping implementation\n",
    "es = EarlyStopping(monitor='val_auc', mode='min', verbose=1, patience=20)"
   ]
  },
  {
   "cell_type": "code",
   "execution_count": 29,
   "metadata": {},
   "outputs": [
    {
     "name": "stdout",
     "output_type": "stream",
     "text": [
      "Epoch 1/5\n",
      "7/7 [==============================] - 4s 391ms/step - loss: 1.0975 - categorical_accuracy: 0.3187 - auc: 0.5255 - val_loss: 8.7035 - val_categorical_accuracy: 0.2629 - val_auc: 0.4155\n",
      "Epoch 2/5\n",
      "7/7 [==============================] - 3s 386ms/step - loss: 1.0681 - categorical_accuracy: 0.4422 - auc: 0.6159 - val_loss: 9.5034 - val_categorical_accuracy: 0.2271 - val_auc: 0.4197\n",
      "Epoch 3/5\n",
      "7/7 [==============================] - 3s 374ms/step - loss: 1.0311 - categorical_accuracy: 0.4502 - auc: 0.6682 - val_loss: 22.2269 - val_categorical_accuracy: 0.4821 - val_auc: 0.6071\n",
      "Epoch 4/5\n",
      "7/7 [==============================] - 3s 349ms/step - loss: 0.9648 - categorical_accuracy: 0.5219 - auc: 0.7468 - val_loss: 19.7787 - val_categorical_accuracy: 0.5538 - val_auc: 0.6760\n",
      "Epoch 5/5\n",
      "7/7 [==============================] - 3s 355ms/step - loss: 0.8664 - categorical_accuracy: 0.6932 - auc: 0.8611 - val_loss: 29.9636 - val_categorical_accuracy: 0.5896 - val_auc: 0.6995\n"
     ]
    }
   ],
   "source": [
    "# fit the model with 10 ephochs and early stopping\n",
    "history =model.fit(\n",
    "        training_iterator,\n",
    "        steps_per_epoch=training_iterator.samples/BATCH_SIZE, epochs=5,\n",
    "        validation_data=validation_iterator,\n",
    "        validation_steps=validation_iterator.samples/BATCH_SIZE,\n",
    "        callbacks=[es])\n"
   ]
  },
  {
   "cell_type": "code",
   "execution_count": 30,
   "metadata": {},
   "outputs": [
    {
     "data": {
      "image/png": "[encoded data removed]",
      "text/plain": [
       "<Figure size 640x480 with 2 Axes>"
      ]
     },
     "metadata": {},
     "output_type": "display_data"
    }
   ],
   "source": [
    "# plotting categorical and validation accuracy over epochs\n",
    "fig = plt.figure()\n",
    "ax1 = fig.add_subplot(2, 1, 1)\n",
    "ax1.plot(history.history['categorical_accuracy'])\n",
    "ax1.plot(history.history['val_categorical_accuracy'])\n",
    "ax1.set_title('model accuracy')\n",
    "ax1.set_xlabel('epoch')\n",
    "ax1.set_ylabel('accuracy')\n",
    "ax1.legend(['train', 'validation'], loc='upper left')\n",
    "\n",
    "# plotting auc and validation auc over epochs\n",
    "ax2 = fig.add_subplot(2, 1, 2)\n",
    "ax2.plot(history.history['auc'])\n",
    "ax2.plot(history.history['val_auc'])\n",
    "ax2.set_title('model auc')\n",
    "ax2.set_xlabel('epoch')\n",
    "ax2.set_ylabel('auc')\n",
    "ax2.legend(['train', 'validation'], loc='upper left')\n",
    "\n",
    "plt.show()"
   ]
  },
  {
   "cell_type": "code",
   "execution_count": 31,
   "metadata": {},
   "outputs": [
    {
     "name": "stdout",
     "output_type": "stream",
     "text": [
      "8/8 [==============================] - 1s 69ms/step\n",
      "              precision    recall  f1-score   support\n",
      "\n",
      "       Covid       0.46      0.86      0.60       111\n",
      "      Normal       0.50      0.01      0.03        70\n",
      "   Pneumonia       0.33      0.20      0.25        70\n",
      "\n",
      "    accuracy                           0.44       251\n",
      "   macro avg       0.43      0.36      0.29       251\n",
      "weighted avg       0.44      0.44      0.34       251\n",
      "\n"
     ]
    }
   ],
   "source": [
    "test_steps_per_epoch = numpy.math.ceil(validation_iterator.samples / validation_iterator.batch_size)\n",
    "predictions = model.predict(validation_iterator, steps=test_steps_per_epoch)\n",
    "test_steps_per_epoch = numpy.math.ceil(validation_iterator.samples / validation_iterator.batch_size)\n",
    "predicted_classes = numpy.argmax(predictions, axis=1)\n",
    "true_classes = validation_iterator.classes\n",
    "class_labels = list(validation_iterator.class_indices.keys())\n",
    "report = classification_report(true_classes, predicted_classes, target_names=class_labels)\n",
    "print(report)  "
   ]
  },
  {
   "cell_type": "code",
   "execution_count": 33,
   "metadata": {},
   "outputs": [
    {
     "data": {
      "text/plain": [
       "array([[96,  1, 14],\n",
       "       [55,  1, 14],\n",
       "       [56,  0, 14]])"
      ]
     },
     "execution_count": 33,
     "metadata": {},
     "output_type": "execute_result"
    }
   ],
   "source": [
    "cm=confusion_matrix(true_classes,predicted_classes)\n",
    "cm"
   ]
  }
 ],
 "metadata": {
  "kernelspec": {
   "display_name": "tf_env_codecademy",
   "language": "python",
   "name": "python3"
  },
  "language_info": {
   "codemirror_mode": {
    "name": "ipython",
    "version": 3
   },
   "file_extension": ".py",
   "mimetype": "text/x-python",
   "name": "python",
   "nbconvert_exporter": "python",
   "pygments_lexer": "ipython3",
   "version": "3.10.0"
  },
  "orig_nbformat": 4
 },
 "nbformat": 4,
 "nbformat_minor": 2
}
