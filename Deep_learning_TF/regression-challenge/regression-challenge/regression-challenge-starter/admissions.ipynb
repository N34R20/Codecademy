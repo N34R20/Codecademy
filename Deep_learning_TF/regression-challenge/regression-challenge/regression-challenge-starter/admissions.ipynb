{
 "cells": [
  {
   "attachments": {},
   "cell_type": "markdown",
   "metadata": {},
   "source": [
    "# Admissions Data predictions with Deep Learning"
   ]
  },
  {
   "cell_type": "code",
   "execution_count": 88,
   "metadata": {},
   "outputs": [],
   "source": [
    "import pandas as pd\n",
    "import numpy as np\n",
    "import matplotlib.pyplot as plt\n",
    "\n",
    "import tensorflow as tf\n",
    "from tensorflow\timport keras\n",
    "\n",
    "from tensorflow.keras.models import Sequential\n",
    "from tensorflow.keras.callbacks import EarlyStopping\n",
    "from tensorflow.keras import layers\n",
    "\n"
   ]
  },
  {
   "cell_type": "code",
   "execution_count": 89,
   "metadata": {},
   "outputs": [],
   "source": [
    "from sklearn.model_selection import train_test_split\n",
    "from sklearn.preprocessing import StandardScaler\n",
    "from sklearn.preprocessing import Normalizer\n",
    "from sklearn.metrics import r2_score"
   ]
  },
  {
   "cell_type": "code",
   "execution_count": 90,
   "metadata": {},
   "outputs": [
    {
     "name": "stdout",
     "output_type": "stream",
     "text": [
      "[name: \"/device:CPU:0\"\n",
      "device_type: \"CPU\"\n",
      "memory_limit: 268435456\n",
      "locality {\n",
      "}\n",
      "incarnation: 11453203829164444630\n",
      "xla_global_id: -1\n",
      "]\n"
     ]
    }
   ],
   "source": [
    "# Verification for the device rurning on tensorflow\n",
    "from tensorflow.python.client import device_lib \n",
    "print(device_lib.list_local_devices())"
   ]
  },
  {
   "cell_type": "code",
   "execution_count": 91,
   "metadata": {},
   "outputs": [
    {
     "data": {
      "text/html": [
       "<div>\n",
       "<style scoped>\n",
       "    .dataframe tbody tr th:only-of-type {\n",
       "        vertical-align: middle;\n",
       "    }\n",
       "\n",
       "    .dataframe tbody tr th {\n",
       "        vertical-align: top;\n",
       "    }\n",
       "\n",
       "    .dataframe thead th {\n",
       "        text-align: right;\n",
       "    }\n",
       "</style>\n",
       "<table border=\"1\" class=\"dataframe\">\n",
       "  <thead>\n",
       "    <tr style=\"text-align: right;\">\n",
       "      <th></th>\n",
       "      <th>Serial No.</th>\n",
       "      <th>GRE Score</th>\n",
       "      <th>TOEFL Score</th>\n",
       "      <th>University Rating</th>\n",
       "      <th>SOP</th>\n",
       "      <th>LOR</th>\n",
       "      <th>CGPA</th>\n",
       "      <th>Research</th>\n",
       "      <th>Chance of Admit</th>\n",
       "    </tr>\n",
       "  </thead>\n",
       "  <tbody>\n",
       "    <tr>\n",
       "      <th>0</th>\n",
       "      <td>1</td>\n",
       "      <td>337</td>\n",
       "      <td>118</td>\n",
       "      <td>4</td>\n",
       "      <td>4.5</td>\n",
       "      <td>4.5</td>\n",
       "      <td>9.65</td>\n",
       "      <td>1</td>\n",
       "      <td>0.92</td>\n",
       "    </tr>\n",
       "    <tr>\n",
       "      <th>1</th>\n",
       "      <td>2</td>\n",
       "      <td>324</td>\n",
       "      <td>107</td>\n",
       "      <td>4</td>\n",
       "      <td>4.0</td>\n",
       "      <td>4.5</td>\n",
       "      <td>8.87</td>\n",
       "      <td>1</td>\n",
       "      <td>0.76</td>\n",
       "    </tr>\n",
       "    <tr>\n",
       "      <th>2</th>\n",
       "      <td>3</td>\n",
       "      <td>316</td>\n",
       "      <td>104</td>\n",
       "      <td>3</td>\n",
       "      <td>3.0</td>\n",
       "      <td>3.5</td>\n",
       "      <td>8.00</td>\n",
       "      <td>1</td>\n",
       "      <td>0.72</td>\n",
       "    </tr>\n",
       "    <tr>\n",
       "      <th>3</th>\n",
       "      <td>4</td>\n",
       "      <td>322</td>\n",
       "      <td>110</td>\n",
       "      <td>3</td>\n",
       "      <td>3.5</td>\n",
       "      <td>2.5</td>\n",
       "      <td>8.67</td>\n",
       "      <td>1</td>\n",
       "      <td>0.80</td>\n",
       "    </tr>\n",
       "    <tr>\n",
       "      <th>4</th>\n",
       "      <td>5</td>\n",
       "      <td>314</td>\n",
       "      <td>103</td>\n",
       "      <td>2</td>\n",
       "      <td>2.0</td>\n",
       "      <td>3.0</td>\n",
       "      <td>8.21</td>\n",
       "      <td>0</td>\n",
       "      <td>0.65</td>\n",
       "    </tr>\n",
       "    <tr>\n",
       "      <th>...</th>\n",
       "      <td>...</td>\n",
       "      <td>...</td>\n",
       "      <td>...</td>\n",
       "      <td>...</td>\n",
       "      <td>...</td>\n",
       "      <td>...</td>\n",
       "      <td>...</td>\n",
       "      <td>...</td>\n",
       "      <td>...</td>\n",
       "    </tr>\n",
       "    <tr>\n",
       "      <th>495</th>\n",
       "      <td>496</td>\n",
       "      <td>332</td>\n",
       "      <td>108</td>\n",
       "      <td>5</td>\n",
       "      <td>4.5</td>\n",
       "      <td>4.0</td>\n",
       "      <td>9.02</td>\n",
       "      <td>1</td>\n",
       "      <td>0.87</td>\n",
       "    </tr>\n",
       "    <tr>\n",
       "      <th>496</th>\n",
       "      <td>497</td>\n",
       "      <td>337</td>\n",
       "      <td>117</td>\n",
       "      <td>5</td>\n",
       "      <td>5.0</td>\n",
       "      <td>5.0</td>\n",
       "      <td>9.87</td>\n",
       "      <td>1</td>\n",
       "      <td>0.96</td>\n",
       "    </tr>\n",
       "    <tr>\n",
       "      <th>497</th>\n",
       "      <td>498</td>\n",
       "      <td>330</td>\n",
       "      <td>120</td>\n",
       "      <td>5</td>\n",
       "      <td>4.5</td>\n",
       "      <td>5.0</td>\n",
       "      <td>9.56</td>\n",
       "      <td>1</td>\n",
       "      <td>0.93</td>\n",
       "    </tr>\n",
       "    <tr>\n",
       "      <th>498</th>\n",
       "      <td>499</td>\n",
       "      <td>312</td>\n",
       "      <td>103</td>\n",
       "      <td>4</td>\n",
       "      <td>4.0</td>\n",
       "      <td>5.0</td>\n",
       "      <td>8.43</td>\n",
       "      <td>0</td>\n",
       "      <td>0.73</td>\n",
       "    </tr>\n",
       "    <tr>\n",
       "      <th>499</th>\n",
       "      <td>500</td>\n",
       "      <td>327</td>\n",
       "      <td>113</td>\n",
       "      <td>4</td>\n",
       "      <td>4.5</td>\n",
       "      <td>4.5</td>\n",
       "      <td>9.04</td>\n",
       "      <td>0</td>\n",
       "      <td>0.84</td>\n",
       "    </tr>\n",
       "  </tbody>\n",
       "</table>\n",
       "<p>500 rows × 9 columns</p>\n",
       "</div>"
      ],
      "text/plain": [
       "     Serial No.  GRE Score  TOEFL Score  University Rating  SOP  LOR   CGPA  \\\n",
       "0             1        337          118                  4  4.5   4.5  9.65   \n",
       "1             2        324          107                  4  4.0   4.5  8.87   \n",
       "2             3        316          104                  3  3.0   3.5  8.00   \n",
       "3             4        322          110                  3  3.5   2.5  8.67   \n",
       "4             5        314          103                  2  2.0   3.0  8.21   \n",
       "..          ...        ...          ...                ...  ...   ...   ...   \n",
       "495         496        332          108                  5  4.5   4.0  9.02   \n",
       "496         497        337          117                  5  5.0   5.0  9.87   \n",
       "497         498        330          120                  5  4.5   5.0  9.56   \n",
       "498         499        312          103                  4  4.0   5.0  8.43   \n",
       "499         500        327          113                  4  4.5   4.5  9.04   \n",
       "\n",
       "     Research  Chance of Admit   \n",
       "0           1              0.92  \n",
       "1           1              0.76  \n",
       "2           1              0.72  \n",
       "3           1              0.80  \n",
       "4           0              0.65  \n",
       "..        ...               ...  \n",
       "495         1              0.87  \n",
       "496         1              0.96  \n",
       "497         1              0.93  \n",
       "498         0              0.73  \n",
       "499         0              0.84  \n",
       "\n",
       "[500 rows x 9 columns]"
      ]
     },
     "execution_count": 91,
     "metadata": {},
     "output_type": "execute_result"
    }
   ],
   "source": [
    "df = pd.read_csv(\"admissions_data.csv\")\n",
    "df"
   ]
  },
  {
   "cell_type": "code",
   "execution_count": 104,
   "metadata": {},
   "outputs": [
    {
     "data": {
      "text/plain": [
       "Index(['Serial No.', 'GRE Score', 'TOEFL Score', 'University Rating', 'SOP',\n",
       "       'LOR ', 'CGPA', 'Research', 'Chance of Admit '],\n",
       "      dtype='object')"
      ]
     },
     "execution_count": 104,
     "metadata": {},
     "output_type": "execute_result"
    }
   ],
   "source": [
    "df.columns"
   ]
  },
  {
   "cell_type": "code",
   "execution_count": 115,
   "metadata": {},
   "outputs": [
    {
     "name": "stdout",
     "output_type": "stream",
     "text": [
      "Mean of columns in the DataFrame: \n",
      "\n"
     ]
    },
    {
     "data": {
      "text/plain": [
       "Serial No.           250.50000\n",
       "GRE Score            316.47200\n",
       "TOEFL Score          107.19200\n",
       "University Rating      3.11400\n",
       "SOP                    3.37400\n",
       "LOR                    3.48400\n",
       "CGPA                   8.57644\n",
       "Research               0.56000\n",
       "Chance of Admit        0.72174\n",
       "dtype: float64"
      ]
     },
     "execution_count": 115,
     "metadata": {},
     "output_type": "execute_result"
    }
   ],
   "source": [
    "print(\"Mean of columns in the DataFrame: \\n\")\n",
    "df.mean()"
   ]
  },
  {
   "attachments": {},
   "cell_type": "markdown",
   "metadata": {},
   "source": [
    "## Split the data "
   ]
  },
  {
   "cell_type": "code",
   "execution_count": 92,
   "metadata": {},
   "outputs": [],
   "source": [
    "labels = df.iloc[:,-1]\n",
    "features = df.iloc[:, 1:-1]\n",
    "\n",
    "features_train_set, features_test_set, labels_train_set, labels_test_set = train_test_split(features, labels, test_size = 0.3)"
   ]
  },
  {
   "cell_type": "code",
   "execution_count": 93,
   "metadata": {},
   "outputs": [
    {
     "data": {
      "text/html": [
       "<div>\n",
       "<style scoped>\n",
       "    .dataframe tbody tr th:only-of-type {\n",
       "        vertical-align: middle;\n",
       "    }\n",
       "\n",
       "    .dataframe tbody tr th {\n",
       "        vertical-align: top;\n",
       "    }\n",
       "\n",
       "    .dataframe thead th {\n",
       "        text-align: right;\n",
       "    }\n",
       "</style>\n",
       "<table border=\"1\" class=\"dataframe\">\n",
       "  <thead>\n",
       "    <tr style=\"text-align: right;\">\n",
       "      <th></th>\n",
       "      <th>GRE Score</th>\n",
       "      <th>TOEFL Score</th>\n",
       "      <th>University Rating</th>\n",
       "      <th>SOP</th>\n",
       "      <th>LOR</th>\n",
       "      <th>CGPA</th>\n",
       "      <th>Research</th>\n",
       "    </tr>\n",
       "  </thead>\n",
       "  <tbody>\n",
       "    <tr>\n",
       "      <th>0</th>\n",
       "      <td>337</td>\n",
       "      <td>118</td>\n",
       "      <td>4</td>\n",
       "      <td>4.5</td>\n",
       "      <td>4.5</td>\n",
       "      <td>9.65</td>\n",
       "      <td>1</td>\n",
       "    </tr>\n",
       "    <tr>\n",
       "      <th>1</th>\n",
       "      <td>324</td>\n",
       "      <td>107</td>\n",
       "      <td>4</td>\n",
       "      <td>4.0</td>\n",
       "      <td>4.5</td>\n",
       "      <td>8.87</td>\n",
       "      <td>1</td>\n",
       "    </tr>\n",
       "    <tr>\n",
       "      <th>2</th>\n",
       "      <td>316</td>\n",
       "      <td>104</td>\n",
       "      <td>3</td>\n",
       "      <td>3.0</td>\n",
       "      <td>3.5</td>\n",
       "      <td>8.00</td>\n",
       "      <td>1</td>\n",
       "    </tr>\n",
       "    <tr>\n",
       "      <th>3</th>\n",
       "      <td>322</td>\n",
       "      <td>110</td>\n",
       "      <td>3</td>\n",
       "      <td>3.5</td>\n",
       "      <td>2.5</td>\n",
       "      <td>8.67</td>\n",
       "      <td>1</td>\n",
       "    </tr>\n",
       "    <tr>\n",
       "      <th>4</th>\n",
       "      <td>314</td>\n",
       "      <td>103</td>\n",
       "      <td>2</td>\n",
       "      <td>2.0</td>\n",
       "      <td>3.0</td>\n",
       "      <td>8.21</td>\n",
       "      <td>0</td>\n",
       "    </tr>\n",
       "    <tr>\n",
       "      <th>...</th>\n",
       "      <td>...</td>\n",
       "      <td>...</td>\n",
       "      <td>...</td>\n",
       "      <td>...</td>\n",
       "      <td>...</td>\n",
       "      <td>...</td>\n",
       "      <td>...</td>\n",
       "    </tr>\n",
       "    <tr>\n",
       "      <th>495</th>\n",
       "      <td>332</td>\n",
       "      <td>108</td>\n",
       "      <td>5</td>\n",
       "      <td>4.5</td>\n",
       "      <td>4.0</td>\n",
       "      <td>9.02</td>\n",
       "      <td>1</td>\n",
       "    </tr>\n",
       "    <tr>\n",
       "      <th>496</th>\n",
       "      <td>337</td>\n",
       "      <td>117</td>\n",
       "      <td>5</td>\n",
       "      <td>5.0</td>\n",
       "      <td>5.0</td>\n",
       "      <td>9.87</td>\n",
       "      <td>1</td>\n",
       "    </tr>\n",
       "    <tr>\n",
       "      <th>497</th>\n",
       "      <td>330</td>\n",
       "      <td>120</td>\n",
       "      <td>5</td>\n",
       "      <td>4.5</td>\n",
       "      <td>5.0</td>\n",
       "      <td>9.56</td>\n",
       "      <td>1</td>\n",
       "    </tr>\n",
       "    <tr>\n",
       "      <th>498</th>\n",
       "      <td>312</td>\n",
       "      <td>103</td>\n",
       "      <td>4</td>\n",
       "      <td>4.0</td>\n",
       "      <td>5.0</td>\n",
       "      <td>8.43</td>\n",
       "      <td>0</td>\n",
       "    </tr>\n",
       "    <tr>\n",
       "      <th>499</th>\n",
       "      <td>327</td>\n",
       "      <td>113</td>\n",
       "      <td>4</td>\n",
       "      <td>4.5</td>\n",
       "      <td>4.5</td>\n",
       "      <td>9.04</td>\n",
       "      <td>0</td>\n",
       "    </tr>\n",
       "  </tbody>\n",
       "</table>\n",
       "<p>500 rows × 7 columns</p>\n",
       "</div>"
      ],
      "text/plain": [
       "     GRE Score  TOEFL Score  University Rating  SOP  LOR   CGPA  Research\n",
       "0          337          118                  4  4.5   4.5  9.65         1\n",
       "1          324          107                  4  4.0   4.5  8.87         1\n",
       "2          316          104                  3  3.0   3.5  8.00         1\n",
       "3          322          110                  3  3.5   2.5  8.67         1\n",
       "4          314          103                  2  2.0   3.0  8.21         0\n",
       "..         ...          ...                ...  ...   ...   ...       ...\n",
       "495        332          108                  5  4.5   4.0  9.02         1\n",
       "496        337          117                  5  5.0   5.0  9.87         1\n",
       "497        330          120                  5  4.5   5.0  9.56         1\n",
       "498        312          103                  4  4.0   5.0  8.43         0\n",
       "499        327          113                  4  4.5   4.5  9.04         0\n",
       "\n",
       "[500 rows x 7 columns]"
      ]
     },
     "execution_count": 93,
     "metadata": {},
     "output_type": "execute_result"
    }
   ],
   "source": [
    "features"
   ]
  },
  {
   "attachments": {},
   "cell_type": "markdown",
   "metadata": {},
   "source": [
    "# Scaling"
   ]
  },
  {
   "cell_type": "code",
   "execution_count": 94,
   "metadata": {},
   "outputs": [
    {
     "name": "stdout",
     "output_type": "stream",
     "text": [
      "(350, 7)\n"
     ]
    }
   ],
   "source": [
    "scaler = StandardScaler()\n",
    "features_train_set = scaler.fit_transform(features_train_set)\n",
    "features_test_set = scaler.transform(features_test_set)\n",
    "\n",
    "print(features_train_set.shape)"
   ]
  },
  {
   "cell_type": "code",
   "execution_count": 95,
   "metadata": {},
   "outputs": [
    {
     "data": {
      "text/plain": [
       "array([[-1.70748797, -1.00448737, -0.08765765, ...,  0.54335483,\n",
       "        -1.50804736,  0.88640526],\n",
       "       [-0.83005325, -0.02563657, -0.96423417, ..., -0.00312273,\n",
       "        -0.09681748,  0.88640526],\n",
       "       [ 0.9248162 ,  1.27949783,  0.78891886, ...,  0.54335483,\n",
       "         0.93255019, -1.12815215],\n",
       "       ...,\n",
       "       [ 0.13512495,  0.46378883, -1.84081068, ..., -0.00312273,\n",
       "        -0.06361208,  0.88640526],\n",
       "       [-0.39133589, -1.00448737, -0.96423417, ..., -0.00312273,\n",
       "        -0.8937473 ,  0.88640526],\n",
       "       [-1.44425755, -0.35192017, -1.84081068, ..., -1.64255541,\n",
       "        -1.2922122 , -1.12815215]])"
      ]
     },
     "execution_count": 95,
     "metadata": {},
     "output_type": "execute_result"
    }
   ],
   "source": [
    "features_train_set"
   ]
  },
  {
   "attachments": {},
   "cell_type": "markdown",
   "metadata": {},
   "source": [
    "# Building a Sequential model"
   ]
  },
  {
   "cell_type": "code",
   "execution_count": 96,
   "metadata": {},
   "outputs": [],
   "source": [
    "model = keras.Sequential(\n",
    "    [   layers.InputLayer(input_shape=(features_train_set.shape[1])),\n",
    "        layers.Dense(16, activation=\"relu\", name=\"layer1\"),\n",
    "        layers.Dropout(0.1),\n",
    "        layers.Dense(1)\n",
    "    ]\n",
    ")\n",
    "\n",
    "print(model.summary())"
   ]
  },
  {
   "cell_type": "code",
   "execution_count": null,
   "metadata": {},
   "outputs": [],
   "source": [
    "model = keras.Sequential(\n",
    "    [   layers.InputLayer(input_shape=(features_train_set.shape[1])),\n",
    "        layers.Dense(16, activation=\"relu\", name=\"layer1\"),\n",
    "        layers.Dropout(0.1),\n",
    "        layers.Dense(1)\n",
    "    ]\n",
    ")\n",
    "\n",
    "print(model.summary())"
   ]
  },
  {
   "cell_type": "code",
   "execution_count": null,
   "metadata": {},
   "outputs": [],
   "source": [
    "model = keras.Sequential(\n",
    "    [   layers.InputLayer(input_shape=(features_train_set.shape[1])),\n",
    "        layers.Dense(16, activation=\"relu\", name=\"layer1\"),\n",
    "        layers.Dropout(0.1),\n",
    "        layers.Dense(1)\n",
    "    ]\n",
    ")\n",
    "\n",
    "print(model.summary())"
   ]
  },
  {
   "cell_type": "code",
   "execution_count": 97,
   "metadata": {},
   "outputs": [],
   "source": [
    "from tensorflow.keras.optimizers import Adam\n",
    "opt = Adam(learning_rate=0.01)\n",
    "model.compile(loss='mse', metrics=['mae'], optimizer = opt)"
   ]
  },
  {
   "attachments": {},
   "cell_type": "markdown",
   "metadata": {},
   "source": [
    "## Fit the model"
   ]
  },
  {
   "cell_type": "code",
   "execution_count": 98,
   "metadata": {},
   "outputs": [
    {
     "name": "stdout",
     "output_type": "stream",
     "text": [
      "Epoch 1/50\n",
      "117/117 [==============================] - 1s 2ms/step - loss: 0.1439 - mae: 0.2662\n",
      "Epoch 2/50\n",
      "117/117 [==============================] - 0s 2ms/step - loss: 0.0274 - mae: 0.1216\n",
      "Epoch 3/50\n",
      "117/117 [==============================] - 0s 2ms/step - loss: 0.0141 - mae: 0.0930\n",
      "Epoch 4/50\n",
      "117/117 [==============================] - 0s 2ms/step - loss: 0.0097 - mae: 0.0760\n",
      "Epoch 5/50\n",
      "117/117 [==============================] - 0s 2ms/step - loss: 0.0091 - mae: 0.0710\n",
      "Epoch 6/50\n",
      "117/117 [==============================] - 0s 2ms/step - loss: 0.0073 - mae: 0.0637\n",
      "Epoch 7/50\n",
      "117/117 [==============================] - 0s 3ms/step - loss: 0.0055 - mae: 0.0567\n",
      "Epoch 8/50\n",
      "117/117 [==============================] - 0s 3ms/step - loss: 0.0052 - mae: 0.0548\n",
      "Epoch 9/50\n",
      "117/117 [==============================] - 0s 2ms/step - loss: 0.0053 - mae: 0.0542\n",
      "Epoch 10/50\n",
      "117/117 [==============================] - 0s 2ms/step - loss: 0.0053 - mae: 0.0541\n",
      "Epoch 11/50\n",
      "117/117 [==============================] - 0s 2ms/step - loss: 0.0056 - mae: 0.0579\n",
      "Epoch 12/50\n",
      "117/117 [==============================] - 0s 2ms/step - loss: 0.0052 - mae: 0.0543\n",
      "Epoch 13/50\n",
      "117/117 [==============================] - 0s 2ms/step - loss: 0.0050 - mae: 0.0524\n",
      "Epoch 14/50\n",
      "117/117 [==============================] - 0s 4ms/step - loss: 0.0049 - mae: 0.0516\n",
      "Epoch 15/50\n",
      "117/117 [==============================] - 0s 3ms/step - loss: 0.0050 - mae: 0.0526\n",
      "Epoch 16/50\n",
      "117/117 [==============================] - 0s 3ms/step - loss: 0.0047 - mae: 0.0525\n",
      "Epoch 17/50\n",
      "117/117 [==============================] - 0s 3ms/step - loss: 0.0051 - mae: 0.0542\n",
      "Epoch 18/50\n",
      "117/117 [==============================] - 0s 3ms/step - loss: 0.0052 - mae: 0.0545\n",
      "Epoch 19/50\n",
      "117/117 [==============================] - 0s 2ms/step - loss: 0.0049 - mae: 0.0515\n",
      "Epoch 20/50\n",
      "117/117 [==============================] - 0s 2ms/step - loss: 0.0053 - mae: 0.0563\n",
      "Epoch 21/50\n",
      "117/117 [==============================] - 0s 2ms/step - loss: 0.0056 - mae: 0.0562\n",
      "Epoch 22/50\n",
      "117/117 [==============================] - 0s 2ms/step - loss: 0.0054 - mae: 0.0561\n",
      "Epoch 23/50\n",
      "117/117 [==============================] - 0s 2ms/step - loss: 0.0049 - mae: 0.0520\n",
      "Epoch 24/50\n",
      "117/117 [==============================] - 0s 3ms/step - loss: 0.0053 - mae: 0.0540\n",
      "Epoch 25/50\n",
      "117/117 [==============================] - 0s 3ms/step - loss: 0.0052 - mae: 0.0557\n",
      "Epoch 26/50\n",
      "117/117 [==============================] - 0s 2ms/step - loss: 0.0047 - mae: 0.0518\n",
      "Epoch 27/50\n",
      "117/117 [==============================] - 0s 2ms/step - loss: 0.0049 - mae: 0.0502\n",
      "Epoch 28/50\n",
      "117/117 [==============================] - 0s 2ms/step - loss: 0.0048 - mae: 0.0533\n",
      "Epoch 29/50\n",
      "117/117 [==============================] - 0s 2ms/step - loss: 0.0048 - mae: 0.0527\n",
      "Epoch 30/50\n",
      "117/117 [==============================] - 0s 2ms/step - loss: 0.0049 - mae: 0.0526\n",
      "Epoch 31/50\n",
      "117/117 [==============================] - 0s 2ms/step - loss: 0.0050 - mae: 0.0528\n",
      "Epoch 32/50\n",
      "117/117 [==============================] - 0s 2ms/step - loss: 0.0051 - mae: 0.0552\n",
      "Epoch 33/50\n",
      "117/117 [==============================] - 0s 4ms/step - loss: 0.0053 - mae: 0.0556\n",
      "Epoch 34/50\n",
      "117/117 [==============================] - 0s 3ms/step - loss: 0.0052 - mae: 0.0541\n",
      "Epoch 35/50\n",
      "117/117 [==============================] - 0s 2ms/step - loss: 0.0045 - mae: 0.0506\n",
      "Epoch 36/50\n",
      "117/117 [==============================] - 0s 2ms/step - loss: 0.0059 - mae: 0.0586\n",
      "Epoch 37/50\n",
      "117/117 [==============================] - 0s 1ms/step - loss: 0.0052 - mae: 0.0548\n",
      "Epoch 38/50\n",
      "117/117 [==============================] - 0s 2ms/step - loss: 0.0054 - mae: 0.0549\n",
      "Epoch 39/50\n",
      "117/117 [==============================] - 0s 3ms/step - loss: 0.0050 - mae: 0.0537\n",
      "Epoch 40/50\n",
      "117/117 [==============================] - 0s 2ms/step - loss: 0.0051 - mae: 0.0539\n",
      "Epoch 41/50\n",
      "117/117 [==============================] - 0s 3ms/step - loss: 0.0063 - mae: 0.0614\n",
      "Epoch 42/50\n",
      "117/117 [==============================] - 0s 3ms/step - loss: 0.0054 - mae: 0.0545\n",
      "Epoch 43/50\n",
      "117/117 [==============================] - 0s 4ms/step - loss: 0.0063 - mae: 0.0607\n",
      "Epoch 44/50\n",
      "117/117 [==============================] - 0s 3ms/step - loss: 0.0054 - mae: 0.0554\n",
      "Epoch 45/50\n",
      "117/117 [==============================] - 1s 4ms/step - loss: 0.0068 - mae: 0.0632\n",
      "Epoch 46/50\n",
      "117/117 [==============================] - 0s 3ms/step - loss: 0.0057 - mae: 0.0571\n",
      "Epoch 47/50\n",
      "117/117 [==============================] - 0s 2ms/step - loss: 0.0051 - mae: 0.0558\n",
      "Epoch 48/50\n",
      "117/117 [==============================] - 0s 2ms/step - loss: 0.0052 - mae: 0.0540\n",
      "Epoch 49/50\n",
      "117/117 [==============================] - 0s 2ms/step - loss: 0.0052 - mae: 0.0540\n",
      "Epoch 50/50\n",
      "117/117 [==============================] - 0s 3ms/step - loss: 0.0047 - mae: 0.0504\n"
     ]
    },
    {
     "data": {
      "text/plain": [
       "<keras.callbacks.History at 0x7f6e9ba04760>"
      ]
     },
     "execution_count": 98,
     "metadata": {},
     "output_type": "execute_result"
    }
   ],
   "source": [
    "model.fit(features_train_set, labels_train_set, epochs=50, batch_size=3, verbose=1)"
   ]
  },
  {
   "attachments": {},
   "cell_type": "markdown",
   "metadata": {},
   "source": [
    "## Test the accuracy of the regression"
   ]
  },
  {
   "cell_type": "code",
   "execution_count": 99,
   "metadata": {},
   "outputs": [
    {
     "name": "stdout",
     "output_type": "stream",
     "text": [
      "0.0034979605115950108 0.04443364962935448\n",
      "5/5 [==============================] - 0s 897us/step\n",
      "0.8001736524019702\n"
     ]
    }
   ],
   "source": [
    "val_mse, val_mae = model.evaluate(features_test_set, labels_test_set, verbose = 0)\n",
    "\n",
    "print(val_mse, val_mae)\n",
    "\n",
    "# evauate r-squared score\n",
    "y_pred = model.predict(features_test_set)\n",
    "\n",
    "print(r2_score(labels_test_set,y_pred))"
   ]
  },
  {
   "attachments": {},
   "cell_type": "markdown",
   "metadata": {},
   "source": [
    "## Adjust Hyperparameters\n",
    "- number of epochs\n",
    "- size of the batch_size\n",
    "- add more hidden layers\n",
    "- tweek the optimizer and/or activation functions"
   ]
  },
  {
   "cell_type": "code",
   "execution_count": 100,
   "metadata": {},
   "outputs": [
    {
     "name": "stdout",
     "output_type": "stream",
     "text": [
      "Epoch 1/100\n",
      "33/33 [==============================] - 1s 7ms/step - loss: 0.2384 - mae: 0.3842 - val_loss: 0.0721 - val_mae: 0.2292\n",
      "Epoch 2/100\n",
      "33/33 [==============================] - 0s 4ms/step - loss: 0.0978 - mae: 0.2508 - val_loss: 0.0371 - val_mae: 0.1621\n",
      "Epoch 3/100\n",
      "33/33 [==============================] - 0s 4ms/step - loss: 0.0645 - mae: 0.2111 - val_loss: 0.0255 - val_mae: 0.1308\n",
      "Epoch 4/100\n",
      "33/33 [==============================] - 0s 5ms/step - loss: 0.0483 - mae: 0.1753 - val_loss: 0.0210 - val_mae: 0.1152\n",
      "Epoch 5/100\n",
      "33/33 [==============================] - 0s 5ms/step - loss: 0.0374 - mae: 0.1579 - val_loss: 0.0210 - val_mae: 0.1253\n",
      "Epoch 6/100\n",
      "33/33 [==============================] - 0s 6ms/step - loss: 0.0261 - mae: 0.1306 - val_loss: 0.0123 - val_mae: 0.0934\n",
      "Epoch 7/100\n",
      "33/33 [==============================] - 0s 6ms/step - loss: 0.0273 - mae: 0.1291 - val_loss: 0.0107 - val_mae: 0.0869\n",
      "Epoch 8/100\n",
      "33/33 [==============================] - 0s 6ms/step - loss: 0.0202 - mae: 0.1114 - val_loss: 0.0098 - val_mae: 0.0833\n",
      "Epoch 9/100\n",
      "33/33 [==============================] - 0s 5ms/step - loss: 0.0167 - mae: 0.1036 - val_loss: 0.0095 - val_mae: 0.0799\n",
      "Epoch 10/100\n",
      "33/33 [==============================] - 0s 5ms/step - loss: 0.0175 - mae: 0.1051 - val_loss: 0.0072 - val_mae: 0.0653\n",
      "Epoch 11/100\n",
      "33/33 [==============================] - 0s 7ms/step - loss: 0.0161 - mae: 0.0957 - val_loss: 0.0078 - val_mae: 0.0721\n",
      "Epoch 12/100\n",
      "33/33 [==============================] - 0s 4ms/step - loss: 0.0147 - mae: 0.0972 - val_loss: 0.0065 - val_mae: 0.0631\n",
      "Epoch 13/100\n",
      "33/33 [==============================] - 0s 5ms/step - loss: 0.0113 - mae: 0.0857 - val_loss: 0.0064 - val_mae: 0.0594\n",
      "Epoch 14/100\n",
      "33/33 [==============================] - 0s 5ms/step - loss: 0.0115 - mae: 0.0840 - val_loss: 0.0062 - val_mae: 0.0598\n",
      "Epoch 15/100\n",
      "33/33 [==============================] - 0s 5ms/step - loss: 0.0114 - mae: 0.0833 - val_loss: 0.0059 - val_mae: 0.0560\n",
      "Epoch 16/100\n",
      "33/33 [==============================] - 0s 4ms/step - loss: 0.0123 - mae: 0.0865 - val_loss: 0.0066 - val_mae: 0.0622\n",
      "Epoch 17/100\n",
      "33/33 [==============================] - 0s 7ms/step - loss: 0.0107 - mae: 0.0827 - val_loss: 0.0065 - val_mae: 0.0583\n",
      "Epoch 18/100\n",
      "33/33 [==============================] - 0s 5ms/step - loss: 0.0109 - mae: 0.0804 - val_loss: 0.0066 - val_mae: 0.0591\n",
      "Epoch 19/100\n",
      "33/33 [==============================] - 0s 6ms/step - loss: 0.0095 - mae: 0.0767 - val_loss: 0.0071 - val_mae: 0.0643\n",
      "Epoch 20/100\n",
      "33/33 [==============================] - 0s 6ms/step - loss: 0.0091 - mae: 0.0754 - val_loss: 0.0064 - val_mae: 0.0569\n",
      "Epoch 21/100\n",
      "33/33 [==============================] - 0s 6ms/step - loss: 0.0094 - mae: 0.0748 - val_loss: 0.0069 - val_mae: 0.0627\n",
      "Epoch 22/100\n",
      "33/33 [==============================] - 0s 7ms/step - loss: 0.0086 - mae: 0.0722 - val_loss: 0.0066 - val_mae: 0.0604\n",
      "Epoch 23/100\n",
      "33/33 [==============================] - 0s 6ms/step - loss: 0.0083 - mae: 0.0718 - val_loss: 0.0069 - val_mae: 0.0632\n",
      "Epoch 24/100\n",
      "33/33 [==============================] - 0s 7ms/step - loss: 0.0082 - mae: 0.0701 - val_loss: 0.0066 - val_mae: 0.0597\n",
      "Epoch 25/100\n",
      "33/33 [==============================] - 0s 7ms/step - loss: 0.0089 - mae: 0.0745 - val_loss: 0.0067 - val_mae: 0.0610\n",
      "Epoch 26/100\n",
      "33/33 [==============================] - 0s 5ms/step - loss: 0.0087 - mae: 0.0722 - val_loss: 0.0068 - val_mae: 0.0614\n",
      "Epoch 27/100\n",
      "33/33 [==============================] - 0s 6ms/step - loss: 0.0079 - mae: 0.0674 - val_loss: 0.0068 - val_mae: 0.0608\n",
      "Epoch 28/100\n",
      "33/33 [==============================] - 0s 7ms/step - loss: 0.0080 - mae: 0.0706 - val_loss: 0.0065 - val_mae: 0.0573\n",
      "Epoch 29/100\n",
      "33/33 [==============================] - 0s 6ms/step - loss: 0.0076 - mae: 0.0668 - val_loss: 0.0067 - val_mae: 0.0597\n",
      "Epoch 30/100\n",
      "33/33 [==============================] - 0s 6ms/step - loss: 0.0078 - mae: 0.0697 - val_loss: 0.0067 - val_mae: 0.0605\n",
      "Epoch 31/100\n",
      "33/33 [==============================] - 0s 5ms/step - loss: 0.0073 - mae: 0.0649 - val_loss: 0.0066 - val_mae: 0.0594\n",
      "Epoch 32/100\n",
      "33/33 [==============================] - 0s 5ms/step - loss: 0.0085 - mae: 0.0730 - val_loss: 0.0065 - val_mae: 0.0588\n",
      "Epoch 33/100\n",
      "33/33 [==============================] - 0s 4ms/step - loss: 0.0078 - mae: 0.0686 - val_loss: 0.0065 - val_mae: 0.0586\n",
      "Epoch 34/100\n",
      "33/33 [==============================] - 0s 6ms/step - loss: 0.0078 - mae: 0.0688 - val_loss: 0.0068 - val_mae: 0.0621\n",
      "Epoch 35/100\n",
      "33/33 [==============================] - 0s 6ms/step - loss: 0.0075 - mae: 0.0655 - val_loss: 0.0071 - val_mae: 0.0650\n",
      "Epoch 35: early stopping\n"
     ]
    }
   ],
   "source": [
    "model2 = keras.Sequential(\n",
    "    [   layers.InputLayer(input_shape=(features_train_set.shape[1])),\n",
    "        layers.Dense(16, activation=\"relu\", name=\"layer1\"),\n",
    "        layers.Dropout(0.1),\n",
    "        layers.Dense(8, activation=\"relu\", name=\"layer2\"),\n",
    "        layers.Dropout(0.2),\n",
    "        layers.Dense(1)\n",
    "    ]\n",
    ")\n",
    "\n",
    "print(model2.summary())"
   ]
  },
  {
   "cell_type": "code",
   "execution_count": null,
   "metadata": {},
   "outputs": [],
   "source": [
    "opt = Adam(learning_rate=0.005)\n",
    "\n",
    "model2.compile(loss='mse', metrics=['mae'], optimizer = opt)\n",
    "\n",
    "# apply early stopping for efficiency\n",
    "es = EarlyStopping(monitor='val_loss', mode='min', verbose=1, patience=20)\n",
    "\n",
    "history = model2.fit(features_train_set, labels_train_set, epochs=100, batch_size=8, verbose=1, validation_split=0.25, callbacks=[es])"
   ]
  },
  {
   "cell_type": "code",
   "execution_count": 101,
   "metadata": {},
   "outputs": [
    {
     "name": "stdout",
     "output_type": "stream",
     "text": [
      "MAE:  0.05863048508763313\n",
      "5/5 [==============================] - 0s 3ms/step\n",
      "0.7298284145062601\n"
     ]
    }
   ],
   "source": [
    "val_mse_2, val_mae_2 = model2.evaluate(features_test_set, labels_test_set, verbose = 0)\n",
    "\n",
    "# view the MAE performance\n",
    "print(\"MAE: \", val_mae_2)"
   ]
  },
  {
   "cell_type": "code",
   "execution_count": 102,
   "metadata": {},
   "outputs": [
    {
     "data": {
      "image/png": "[encoded data removed]",
      "text/plain": [
       "<Figure size 640x480 with 2 Axes>"
      ]
     },
     "metadata": {},
     "output_type": "display_data"
    }
   ],
   "source": [
    "# plot MAE and val_MAE over each epoch\n",
    "fig = plt.figure()\n",
    "ax1 = fig.add_subplot(2, 1, 1)\n",
    "ax1.plot(history.history['mae'])\n",
    "ax1.plot(history.history['val_mae'])\n",
    "ax1.set_title('model mae')\n",
    "ax1.set_ylabel('MAE')\n",
    "ax1.set_xlabel('epoch')\n",
    "ax1.legend(['train', 'validation'], loc='upper left')\n",
    "\n",
    "# Plot loss and val_loss over each epoch\n",
    "ax2 = fig.add_subplot(2, 1, 2)\n",
    "ax2.plot(history.history['loss'])\n",
    "ax2.plot(history.history['val_loss'])\n",
    "ax2.set_title('model loss')\n",
    "ax2.set_ylabel('loss')\n",
    "ax2.set_xlabel('epoch')\n",
    "ax2.legend(['train', 'validation'], loc='upper left')\n",
    "\n",
    "plt.show()"
   ]
  }
 ],
 "metadata": {
  "kernelspec": {
   "display_name": "minimal_ds",
   "language": "python",
   "name": "python3"
  },
  "language_info": {
   "codemirror_mode": {
    "name": "ipython",
    "version": 3
   },
   "file_extension": ".py",
   "mimetype": "text/x-python",
   "name": "python",
   "nbconvert_exporter": "python",
   "pygments_lexer": "ipython3",
   "version": "3.10.0"
  },
  "orig_nbformat": 4
 },
 "nbformat": 4,
 "nbformat_minor": 2
}
